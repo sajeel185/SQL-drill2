{
 "cells": [
  {
   "cell_type": "markdown",
   "metadata": {},
   "source": [
    "## Question 1: \n",
    "\n",
    "The hottest day was 134 degrees, and it was in zip code 94063.\n",
    "\n",
    "\n",
    "\n",
    "\n",
    "## Question 2:\n",
    "\n",
    "STATIONS\n",
    "\n",
    "2nd at Folsom: 7464\n",
    "2nd at South Park: 7722\n",
    "2nd at Townsend: 14099\n",
    "\n",
    "\n",
    "SELECT\n",
    "\tstart_station,\n",
    "\tCOUNT(trip_id) as Number_of_trips_started\n",
    "FROM\n",
    "\ttrips\n",
    "Group by 1;\n",
    "\n",
    "\n",
    "\n",
    "## Question 3:  \n",
    "\n",
    "The Shortest trip was with trip_id 1011650, for 60 mins.\n",
    "\n",
    "\n",
    "SELECT \n",
    "\ttrip_id,\n",
    "\tMIN(duration) as trip_length\n",
    "FROM \n",
    "\ttrips\n",
    "GROUP by 1\n",
    "ORDER BY trip_length ASC;\n",
    "\n",
    "\n",
    "## Question 4:\n",
    "\n",
    "SELECT\n",
    "\tend_station,\n",
    "\tAVG(duration) as Average_duration\n",
    "FROM\n",
    "\ttrips\n",
    "GROUP BY end_station\n",
    "ORDER BY Average_duration ASC"
   ]
  }
 ],
 "metadata": {
  "kernelspec": {
   "display_name": "Python 3",
   "language": "python",
   "name": "python3"
  },
  "language_info": {
   "codemirror_mode": {
    "name": "ipython",
    "version": 3
   },
   "file_extension": ".py",
   "mimetype": "text/x-python",
   "name": "python",
   "nbconvert_exporter": "python",
   "pygments_lexer": "ipython3",
   "version": "3.7.0"
  }
 },
 "nbformat": 4,
 "nbformat_minor": 2
}
